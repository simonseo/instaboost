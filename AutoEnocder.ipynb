{
 "cells": [
  {
   "cell_type": "code",
   "execution_count": 12,
   "metadata": {
    "collapsed": false
   },
   "outputs": [],
   "source": [
    "from keras.layers import Input, Dense\n",
    "from keras.models import Model\n",
    "\n",
    "# this is the size of our encoded representations\n",
    "original_dim = 50\n",
    "encoding_dim = 128  # 32 floats -> compression of factor 24.5, assuming the input is 784 floats\n",
    "\n",
    "# this is our input placeholder\n",
    "input_img = Input(shape=(original_dim**2,))\n",
    "# \"encoded\" is the encoded representation of the input\n",
    "encoded = Dense(encoding_dim, activation='relu')(input_img)\n",
    "# \"decoded\" is the lossy reconstruction of the input\n",
    "decoded = Dense(original_dim**2, activation='sigmoid')(encoded)\n",
    "\n",
    "# this model maps an input to its reconstruction\n",
    "autoencoder = Model(input_img, decoded)\n"
   ]
  },
  {
   "cell_type": "code",
   "execution_count": null,
   "metadata": {
    "collapsed": true
   },
   "outputs": [],
   "source": []
  },
  {
   "cell_type": "code",
   "execution_count": 14,
   "metadata": {
    "collapsed": true
   },
   "outputs": [],
   "source": [
    "# this model maps an input to its encoded representation\n",
    "encoder = Model(input_img, encoded)"
   ]
  },
  {
   "cell_type": "code",
   "execution_count": 15,
   "metadata": {
    "collapsed": false
   },
   "outputs": [],
   "source": [
    "# create a placeholder for an encoded (32-dimensional) input\n",
    "encoded_input = Input(shape=(encoding_dim,))\n",
    "# retrieve the last layer of the autoencoder model\n",
    "decoder_layer = autoencoder.layers[-1]\n",
    "# create the decoder model\n",
    "decoder = Model(encoded_input, decoder_layer(encoded_input))"
   ]
  },
  {
   "cell_type": "code",
   "execution_count": 16,
   "metadata": {
    "collapsed": false
   },
   "outputs": [],
   "source": [
    "autoencoder.compile(optimizer='adadelta', loss='binary_crossentropy')"
   ]
  },
  {
   "cell_type": "code",
   "execution_count": 6,
   "metadata": {
    "collapsed": true
   },
   "outputs": [],
   "source": [
    "# from keras.datasets import mnist\n",
    "import numpy as np\n",
    "# (x_train, _), (x_test, _) = mnist.load_data()"
   ]
  },
  {
   "cell_type": "code",
   "execution_count": 8,
   "metadata": {
    "collapsed": false
   },
   "outputs": [
    {
     "name": "stdout",
     "output_type": "stream",
     "text": [
      "Getting labels\n",
      "Getting features\n",
      "Job completed in: 87.50538396835327 seconds\n",
      "rgb shape (12380, 50, 50)\n",
      "labels shape (12380, 1)\n"
     ]
    }
   ],
   "source": [
    "from time import time\n",
    "\n",
    "def load_data():\n",
    "    start = time()\n",
    "    print('Getting labels')\n",
    "    labels = np.loadtxt('data/labels.csv', delimiter=',', dtype=np.float32)\n",
    "    labels = np.minimum(1.0, labels)\n",
    "    labels.shape = (-1,1)\n",
    "\n",
    "    print('Getting features')\n",
    "    rgb = np.loadtxt('data/rgbdata50.csv', delimiter=',', dtype=np.float32)\n",
    "#     rgb = np.loadtxt('data/4096features.csv', delimiter=',', dtype=np.float32)\n",
    "#     rgb.shape = (-1, 64, 64)\n",
    "    rgb.shape = (-1, 3, 50, 50)\n",
    "    rgb = np.mean(rgb, axis=1)\n",
    "    print('Job completed in: {} seconds'.format(time()-start))\n",
    "    return rgb, labels\n",
    "\n",
    "rgb, labels = load_data()\n",
    "nb_classes = 1\n",
    "print('rgb shape', rgb.shape)\n",
    "print('labels shape', labels.shape)"
   ]
  },
  {
   "cell_type": "code",
   "execution_count": 9,
   "metadata": {
    "collapsed": false
   },
   "outputs": [
    {
     "name": "stdout",
     "output_type": "stream",
     "text": [
      "x_train shape: (11254, 50, 50)\n",
      "y_train shape: (11254, 1)\n"
     ]
    }
   ],
   "source": [
    "def divide_data(rgb, labels, data_size=None, train_ratio=0.9):\n",
    "    '''Randomly select given number of data and divide into training set and test set'''\n",
    "    data_size_max = labels.shape[0]\n",
    "    data_size = data_size_max if data_size is None else data_size\n",
    "    train_size = int(np.floor(train_ratio * data_size))\n",
    "\n",
    "    mask = list(range(data_size_max))\n",
    "    mask = np.random.choice(mask, data_size, replace=False)\n",
    "    rgb = rgb[mask]/255\n",
    "    labels = np.minimum(labels[mask], 1.0)\n",
    "    x_train = rgb[:train_size]\n",
    "    y_train = labels[:train_size]\n",
    "    x_test = rgb[train_size:]\n",
    "    y_test = labels[train_size:]\n",
    "\n",
    "    return (x_train, y_train), (x_test, y_test)\n",
    "\n",
    "# CHOICE 2: SINGLE CLASS\n",
    "nb_classes = 1\n",
    "label_md = np.copy(labels)\n",
    "label_md.shape = (-1,nb_classes)\n",
    "\n",
    "(x_train, y_train), (x_test, y_test) = divide_data(rgb, label_md, \n",
    "#                                                    data_size=1000, \n",
    "                                                   train_ratio=10/11) # 10/11 this ratio allows train = 10*test\n",
    "print('x_train shape:', x_train.shape)\n",
    "print('y_train shape:', y_train.shape)\n"
   ]
  },
  {
   "cell_type": "code",
   "execution_count": 10,
   "metadata": {
    "collapsed": false
   },
   "outputs": [
    {
     "name": "stdout",
     "output_type": "stream",
     "text": [
      "(11254, 2500)\n",
      "(1126, 2500)\n"
     ]
    }
   ],
   "source": [
    "x_train = x_train.astype('float32') / 255.\n",
    "x_test = x_test.astype('float32') / 255.\n",
    "x_train = x_train.reshape((len(x_train), np.prod(x_train.shape[1:])))\n",
    "x_test = x_test.reshape((len(x_test), np.prod(x_test.shape[1:])))\n",
    "print(x_train.shape)\n",
    "print(x_test.shape)"
   ]
  },
  {
   "cell_type": "code",
   "execution_count": null,
   "metadata": {
    "collapsed": false
   },
   "outputs": [],
   "source": [
    "x_train.shape = (-1, original_dim**2)\n",
    "print(x_train.shape)"
   ]
  },
  {
   "cell_type": "code",
   "execution_count": 17,
   "metadata": {
    "collapsed": false
   },
   "outputs": [
    {
     "name": "stdout",
     "output_type": "stream",
     "text": [
      "Train on 11254 samples, validate on 1126 samples\n",
      "Epoch 1/100\n",
      "11254/11254 [==============================] - 2s - loss: 0.6889 - val_loss: 0.6845\n",
      "Epoch 2/100\n",
      "11254/11254 [==============================] - 2s - loss: 0.6798 - val_loss: 0.6747\n",
      "Epoch 3/100\n",
      "11254/11254 [==============================] - 2s - loss: 0.6681 - val_loss: 0.6597\n",
      "Epoch 4/100\n",
      "11254/11254 [==============================] - 2s - loss: 0.6450 - val_loss: 0.6236\n",
      "Epoch 5/100\n",
      "11254/11254 [==============================] - 2s - loss: 0.5811 - val_loss: 0.5210\n",
      "Epoch 6/100\n",
      "11254/11254 [==============================] - 2s - loss: 0.4296 - val_loss: 0.3270\n",
      "Epoch 7/100\n",
      "11254/11254 [==============================] - 2s - loss: 0.2390 - val_loss: 0.1651\n",
      "Epoch 8/100\n",
      "11254/11254 [==============================] - 2s - loss: 0.1227 - val_loss: 0.0901\n",
      "Epoch 9/100\n",
      "11254/11254 [==============================] - 2s - loss: 0.0721 - val_loss: 0.0579\n",
      "Epoch 10/100\n",
      "11254/11254 [==============================] - 2s - loss: 0.0492 - val_loss: 0.0422\n",
      "Epoch 11/100\n",
      "11254/11254 [==============================] - 2s - loss: 0.0375 - val_loss: 0.0335\n",
      "Epoch 12/100\n",
      "11254/11254 [==============================] - 2s - loss: 0.0306 - val_loss: 0.0282\n",
      "Epoch 13/100\n",
      "11254/11254 [==============================] - 2s - loss: 0.0264 - val_loss: 0.0248\n",
      "Epoch 14/100\n",
      "11254/11254 [==============================] - 2s - loss: 0.0235 - val_loss: 0.0224\n",
      "Epoch 15/100\n",
      "11254/11254 [==============================] - 2s - loss: 0.0215 - val_loss: 0.0207\n",
      "Epoch 16/100\n",
      "11254/11254 [==============================] - 2s - loss: 0.0200 - val_loss: 0.0195\n",
      "Epoch 17/100\n",
      "11254/11254 [==============================] - 2s - loss: 0.0190 - val_loss: 0.0185\n",
      "Epoch 18/100\n",
      "11254/11254 [==============================] - 2s - loss: 0.0181 - val_loss: 0.0178\n",
      "Epoch 19/100\n",
      "11254/11254 [==============================] - 2s - loss: 0.0175 - val_loss: 0.0172\n",
      "Epoch 20/100\n",
      "11254/11254 [==============================] - 2s - loss: 0.0169 - val_loss: 0.0168\n",
      "Epoch 21/100\n",
      "11254/11254 [==============================] - 2s - loss: 0.0165 - val_loss: 0.0164\n",
      "Epoch 22/100\n",
      "11254/11254 [==============================] - 2s - loss: 0.0162 - val_loss: 0.0161\n",
      "Epoch 23/100\n",
      "11254/11254 [==============================] - 2s - loss: 0.0159 - val_loss: 0.0158\n",
      "Epoch 24/100\n",
      "11254/11254 [==============================] - 2s - loss: 0.0157 - val_loss: 0.0156\n",
      "Epoch 25/100\n",
      "11254/11254 [==============================] - 2s - loss: 0.0155 - val_loss: 0.0154\n",
      "Epoch 26/100\n",
      "11254/11254 [==============================] - 2s - loss: 0.0153 - val_loss: 0.0153\n",
      "Epoch 27/100\n",
      "11254/11254 [==============================] - 2s - loss: 0.0152 - val_loss: 0.0152\n",
      "Epoch 28/100\n",
      "11254/11254 [==============================] - 2s - loss: 0.0151 - val_loss: 0.0151\n",
      "Epoch 29/100\n",
      "11254/11254 [==============================] - 2s - loss: 0.0150 - val_loss: 0.0150\n",
      "Epoch 30/100\n",
      "11254/11254 [==============================] - 2s - loss: 0.0149 - val_loss: 0.0149\n",
      "Epoch 31/100\n",
      "11254/11254 [==============================] - 2s - loss: 0.0148 - val_loss: 0.0148\n",
      "Epoch 32/100\n",
      "11254/11254 [==============================] - 2s - loss: 0.0147 - val_loss: 0.0148\n",
      "Epoch 33/100\n",
      "11254/11254 [==============================] - 2s - loss: 0.0147 - val_loss: 0.0147\n",
      "Epoch 34/100\n",
      "11254/11254 [==============================] - 2s - loss: 0.0146 - val_loss: 0.0147\n",
      "Epoch 35/100\n",
      "11254/11254 [==============================] - 2s - loss: 0.0146 - val_loss: 0.0146\n",
      "Epoch 36/100\n",
      "11254/11254 [==============================] - 2s - loss: 0.0146 - val_loss: 0.0146\n",
      "Epoch 37/100\n",
      "11254/11254 [==============================] - 2s - loss: 0.0145 - val_loss: 0.0146\n",
      "Epoch 38/100\n",
      "11254/11254 [==============================] - 2s - loss: 0.0145 - val_loss: 0.0145\n",
      "Epoch 39/100\n",
      "11254/11254 [==============================] - 2s - loss: 0.0145 - val_loss: 0.0145\n",
      "Epoch 40/100\n",
      "11254/11254 [==============================] - 2s - loss: 0.0144 - val_loss: 0.0145\n",
      "Epoch 41/100\n",
      "11254/11254 [==============================] - 2s - loss: 0.0144 - val_loss: 0.0145\n",
      "Epoch 42/100\n",
      "11254/11254 [==============================] - 2s - loss: 0.0144 - val_loss: 0.0145\n",
      "Epoch 43/100\n",
      "11254/11254 [==============================] - 2s - loss: 0.0144 - val_loss: 0.0144\n",
      "Epoch 44/100\n",
      "11254/11254 [==============================] - 2s - loss: 0.0144 - val_loss: 0.0144\n",
      "Epoch 45/100\n",
      "11254/11254 [==============================] - 2s - loss: 0.0144 - val_loss: 0.0144\n",
      "Epoch 46/100\n",
      "11254/11254 [==============================] - 1s - loss: 0.0143 - val_loss: 0.0144\n",
      "Epoch 47/100\n",
      "11254/11254 [==============================] - 1s - loss: 0.0143 - val_loss: 0.0144\n",
      "Epoch 48/100\n",
      "11254/11254 [==============================] - 1s - loss: 0.0143 - val_loss: 0.0144\n",
      "Epoch 49/100\n",
      "11254/11254 [==============================] - 1s - loss: 0.0143 - val_loss: 0.0144\n",
      "Epoch 50/100\n",
      "11254/11254 [==============================] - 2s - loss: 0.0143 - val_loss: 0.0144\n",
      "Epoch 51/100\n",
      "11254/11254 [==============================] - 2s - loss: 0.0143 - val_loss: 0.0144\n",
      "Epoch 52/100\n",
      "11254/11254 [==============================] - 2s - loss: 0.0143 - val_loss: 0.0144\n",
      "Epoch 53/100\n",
      "11254/11254 [==============================] - 2s - loss: 0.0143 - val_loss: 0.0143\n",
      "Epoch 54/100\n",
      "11254/11254 [==============================] - 2s - loss: 0.0143 - val_loss: 0.0143\n",
      "Epoch 55/100\n",
      "11254/11254 [==============================] - 1s - loss: 0.0143 - val_loss: 0.0143\n",
      "Epoch 56/100\n",
      "11254/11254 [==============================] - 2s - loss: 0.0143 - val_loss: 0.0143\n",
      "Epoch 57/100\n",
      "11254/11254 [==============================] - 1s - loss: 0.0143 - val_loss: 0.0143\n",
      "Epoch 58/100\n",
      "11254/11254 [==============================] - 1s - loss: 0.0143 - val_loss: 0.0143\n",
      "Epoch 59/100\n",
      "11254/11254 [==============================] - 1s - loss: 0.0143 - val_loss: 0.0143\n",
      "Epoch 60/100\n",
      "11254/11254 [==============================] - 1s - loss: 0.0143 - val_loss: 0.0143\n",
      "Epoch 61/100\n",
      "11254/11254 [==============================] - 1s - loss: 0.0143 - val_loss: 0.0143\n",
      "Epoch 62/100\n",
      "11254/11254 [==============================] - 2s - loss: 0.0143 - val_loss: 0.0143\n",
      "Epoch 63/100\n",
      "11254/11254 [==============================] - 1s - loss: 0.0143 - val_loss: 0.0143\n",
      "Epoch 64/100\n",
      "11254/11254 [==============================] - 2s - loss: 0.0143 - val_loss: 0.0143\n",
      "Epoch 65/100\n",
      "11254/11254 [==============================] - 1s - loss: 0.0143 - val_loss: 0.0143\n",
      "Epoch 66/100\n",
      "11254/11254 [==============================] - 1s - loss: 0.0143 - val_loss: 0.0143\n",
      "Epoch 67/100\n",
      "11254/11254 [==============================] - 1s - loss: 0.0143 - val_loss: 0.0143\n",
      "Epoch 68/100\n",
      "11254/11254 [==============================] - 1s - loss: 0.0143 - val_loss: 0.0143\n",
      "Epoch 69/100\n",
      "11254/11254 [==============================] - 1s - loss: 0.0143 - val_loss: 0.0143\n",
      "Epoch 70/100\n",
      "11254/11254 [==============================] - 1s - loss: 0.0142 - val_loss: 0.0143\n",
      "Epoch 71/100\n",
      "11254/11254 [==============================] - 1s - loss: 0.0142 - val_loss: 0.0143\n",
      "Epoch 72/100\n",
      "11254/11254 [==============================] - 1s - loss: 0.0142 - val_loss: 0.0143\n",
      "Epoch 73/100\n",
      "11254/11254 [==============================] - 1s - loss: 0.0142 - val_loss: 0.0143\n",
      "Epoch 74/100\n",
      "11254/11254 [==============================] - 2s - loss: 0.0142 - val_loss: 0.0143\n",
      "Epoch 75/100\n",
      "11254/11254 [==============================] - 1s - loss: 0.0142 - val_loss: 0.0143\n",
      "Epoch 76/100\n",
      "11254/11254 [==============================] - 1s - loss: 0.0142 - val_loss: 0.0143\n",
      "Epoch 77/100\n",
      "11254/11254 [==============================] - 1s - loss: 0.0142 - val_loss: 0.0143\n",
      "Epoch 78/100\n",
      "11254/11254 [==============================] - 1s - loss: 0.0142 - val_loss: 0.0143\n",
      "Epoch 79/100\n",
      "11254/11254 [==============================] - 1s - loss: 0.0142 - val_loss: 0.0143\n",
      "Epoch 80/100\n",
      "11254/11254 [==============================] - 1s - loss: 0.0142 - val_loss: 0.0143\n",
      "Epoch 81/100\n",
      "11254/11254 [==============================] - 1s - loss: 0.0142 - val_loss: 0.0143\n",
      "Epoch 82/100\n",
      "11254/11254 [==============================] - 1s - loss: 0.0142 - val_loss: 0.0143\n",
      "Epoch 83/100\n",
      "11254/11254 [==============================] - 1s - loss: 0.0142 - val_loss: 0.0143\n",
      "Epoch 84/100\n",
      "11254/11254 [==============================] - 1s - loss: 0.0142 - val_loss: 0.0143\n",
      "Epoch 85/100\n",
      "11254/11254 [==============================] - 1s - loss: 0.0142 - val_loss: 0.0143\n",
      "Epoch 86/100\n",
      "11254/11254 [==============================] - 1s - loss: 0.0142 - val_loss: 0.0143\n",
      "Epoch 87/100\n",
      "11254/11254 [==============================] - 1s - loss: 0.0142 - val_loss: 0.0143\n",
      "Epoch 88/100\n",
      "11254/11254 [==============================] - 1s - loss: 0.0142 - val_loss: 0.0143\n",
      "Epoch 89/100\n",
      "11254/11254 [==============================] - 1s - loss: 0.0142 - val_loss: 0.0143\n",
      "Epoch 90/100\n",
      "11254/11254 [==============================] - 1s - loss: 0.0142 - val_loss: 0.0143\n",
      "Epoch 91/100\n",
      "11254/11254 [==============================] - 2s - loss: 0.0142 - val_loss: 0.0143\n",
      "Epoch 92/100\n",
      "11254/11254 [==============================] - 2s - loss: 0.0142 - val_loss: 0.0143\n",
      "Epoch 93/100\n",
      "11254/11254 [==============================] - 2s - loss: 0.0142 - val_loss: 0.0143\n",
      "Epoch 94/100\n",
      "11254/11254 [==============================] - 2s - loss: 0.0142 - val_loss: 0.0143\n",
      "Epoch 95/100\n",
      "11254/11254 [==============================] - 2s - loss: 0.0142 - val_loss: 0.0143\n",
      "Epoch 96/100\n",
      "11254/11254 [==============================] - 2s - loss: 0.0142 - val_loss: 0.0143\n",
      "Epoch 97/100\n",
      "11254/11254 [==============================] - 2s - loss: 0.0142 - val_loss: 0.0143\n",
      "Epoch 98/100\n",
      "11254/11254 [==============================] - 2s - loss: 0.0142 - val_loss: 0.0143\n",
      "Epoch 99/100\n",
      "11254/11254 [==============================] - 2s - loss: 0.0142 - val_loss: 0.0143\n",
      "Epoch 100/100\n",
      "11254/11254 [==============================] - 2s - loss: 0.0142 - val_loss: 0.0143\n"
     ]
    },
    {
     "data": {
      "text/plain": [
       "<keras.callbacks.History at 0x13b36a828>"
      ]
     },
     "execution_count": 17,
     "metadata": {},
     "output_type": "execute_result"
    }
   ],
   "source": [
    "from keras.callbacks import TensorBoard\n",
    "\n",
    "autoencoder.fit(x_train, x_train,\n",
    "                epochs=100,\n",
    "                batch_size=128,\n",
    "                shuffle=True,\n",
    "                validation_data=(x_test, x_test),\n",
    "               callbacks=[TensorBoard(log_dir='/tmp/autoencoder')])"
   ]
  },
  {
   "cell_type": "code",
   "execution_count": 18,
   "metadata": {
    "collapsed": true
   },
   "outputs": [],
   "source": [
    "# encode and decode some digits\n",
    "# note that we take them from the *test* set\n",
    "encoded_imgs = encoder.predict(x_test)\n",
    "decoded_imgs = decoder.predict(encoded_imgs)"
   ]
  },
  {
   "cell_type": "code",
   "execution_count": 19,
   "metadata": {
    "collapsed": false
   },
   "outputs": [
    {
     "data": {
      "image/png": "[encoded data removed]",
      "text/plain": [
       "<matplotlib.figure.Figure at 0x115d9f8d0>"
      ]
     },
     "metadata": {},
     "output_type": "display_data"
    }
   ],
   "source": [
    "# use Matplotlib (don't ask)\n",
    "import matplotlib.pyplot as plt\n",
    "%matplotlib inline \n",
    "n = 10  # how many digits we will display\n",
    "plt.figure(figsize=(20, 4))\n",
    "for i in range(n):\n",
    "    # display original\n",
    "    ax = plt.subplot(3, n, i + 1)\n",
    "    plt.imshow(x_test[i].reshape(original_dim, original_dim))\n",
    "    plt.gray()\n",
    "    ax.get_xaxis().set_visible(False)\n",
    "    ax.get_yaxis().set_visible(False)\n",
    "\n",
    "    # display reconstruction\n",
    "    ax = plt.subplot(3, n, i + 1 + n)\n",
    "    plt.imshow(encoded_imgs[i].reshape(16, 8))\n",
    "    plt.gray()\n",
    "    ax.get_xaxis().set_visible(False)\n",
    "    ax.get_yaxis().set_visible(False)\n",
    "\n",
    "    \n",
    "    \n",
    "    # display reconstruction\n",
    "    ax = plt.subplot(3, n, i + 1 + n*2)\n",
    "    plt.imshow(decoded_imgs[i].reshape(original_dim, original_dim))\n",
    "    plt.gray()\n",
    "    ax.get_xaxis().set_visible(False)\n",
    "    ax.get_yaxis().set_visible(False)\n",
    "plt.show()"
   ]
  },
  {
   "cell_type": "code",
   "execution_count": null,
   "metadata": {
    "collapsed": true
   },
   "outputs": [],
   "source": []
  },
  {
   "cell_type": "code",
   "execution_count": 26,
   "metadata": {
    "collapsed": false
   },
   "outputs": [
    {
     "ename": "ValueError",
     "evalue": "Error when checking target: expected conv2d_63 to have shape (None, 1, 28, 4) but got array with shape (60000, 28, 28, 1)",
     "output_type": "error",
     "traceback": [
      "\u001b[0;31m---------------------------------------------------------------------------\u001b[0m",
      "\u001b[0;31mValueError\u001b[0m                                Traceback (most recent call last)",
      "\u001b[0;32m<ipython-input-26-bd8738edca6c>\u001b[0m in \u001b[0;36m<module>\u001b[0;34m()\u001b[0m\n\u001b[1;32m      6\u001b[0m                 \u001b[0mshuffle\u001b[0m\u001b[0;34m=\u001b[0m\u001b[0;32mTrue\u001b[0m\u001b[0;34m,\u001b[0m\u001b[0;34m\u001b[0m\u001b[0m\n\u001b[1;32m      7\u001b[0m                 \u001b[0mvalidation_data\u001b[0m\u001b[0;34m=\u001b[0m\u001b[0;34m(\u001b[0m\u001b[0mx_test\u001b[0m\u001b[0;34m,\u001b[0m \u001b[0mx_test\u001b[0m\u001b[0;34m)\u001b[0m\u001b[0;34m,\u001b[0m\u001b[0;34m\u001b[0m\u001b[0m\n\u001b[0;32m----> 8\u001b[0;31m                 callbacks=[TensorBoard(log_dir='/tmp/autoencoder')])\n\u001b[0m",
      "\u001b[0;32m/Users/seo/anaconda3/envs/cnnPy3/lib/python3.4/site-packages/keras/engine/training.py\u001b[0m in \u001b[0;36mfit\u001b[0;34m(self, x, y, batch_size, epochs, verbose, callbacks, validation_split, validation_data, shuffle, class_weight, sample_weight, initial_epoch, **kwargs)\u001b[0m\n\u001b[1;32m   1427\u001b[0m             \u001b[0mclass_weight\u001b[0m\u001b[0;34m=\u001b[0m\u001b[0mclass_weight\u001b[0m\u001b[0;34m,\u001b[0m\u001b[0;34m\u001b[0m\u001b[0m\n\u001b[1;32m   1428\u001b[0m             \u001b[0mcheck_batch_axis\u001b[0m\u001b[0;34m=\u001b[0m\u001b[0;32mFalse\u001b[0m\u001b[0;34m,\u001b[0m\u001b[0;34m\u001b[0m\u001b[0m\n\u001b[0;32m-> 1429\u001b[0;31m             batch_size=batch_size)\n\u001b[0m\u001b[1;32m   1430\u001b[0m         \u001b[0;31m# Prepare validation data.\u001b[0m\u001b[0;34m\u001b[0m\u001b[0;34m\u001b[0m\u001b[0m\n\u001b[1;32m   1431\u001b[0m         \u001b[0;32mif\u001b[0m \u001b[0mvalidation_data\u001b[0m\u001b[0;34m:\u001b[0m\u001b[0;34m\u001b[0m\u001b[0m\n",
      "\u001b[0;32m/Users/seo/anaconda3/envs/cnnPy3/lib/python3.4/site-packages/keras/engine/training.py\u001b[0m in \u001b[0;36m_standardize_user_data\u001b[0;34m(self, x, y, sample_weight, class_weight, check_batch_axis, batch_size)\u001b[0m\n\u001b[1;32m   1307\u001b[0m                                     \u001b[0moutput_shapes\u001b[0m\u001b[0;34m,\u001b[0m\u001b[0;34m\u001b[0m\u001b[0m\n\u001b[1;32m   1308\u001b[0m                                     \u001b[0mcheck_batch_axis\u001b[0m\u001b[0;34m=\u001b[0m\u001b[0;32mFalse\u001b[0m\u001b[0;34m,\u001b[0m\u001b[0;34m\u001b[0m\u001b[0m\n\u001b[0;32m-> 1309\u001b[0;31m                                     exception_prefix='target')\n\u001b[0m\u001b[1;32m   1310\u001b[0m         sample_weights = _standardize_sample_weights(sample_weight,\n\u001b[1;32m   1311\u001b[0m                                                      self._feed_output_names)\n",
      "\u001b[0;32m/Users/seo/anaconda3/envs/cnnPy3/lib/python3.4/site-packages/keras/engine/training.py\u001b[0m in \u001b[0;36m_standardize_input_data\u001b[0;34m(data, names, shapes, check_batch_axis, exception_prefix)\u001b[0m\n\u001b[1;32m    137\u001b[0m                             \u001b[0;34m' to have shape '\u001b[0m \u001b[0;34m+\u001b[0m \u001b[0mstr\u001b[0m\u001b[0;34m(\u001b[0m\u001b[0mshapes\u001b[0m\u001b[0;34m[\u001b[0m\u001b[0mi\u001b[0m\u001b[0;34m]\u001b[0m\u001b[0;34m)\u001b[0m \u001b[0;34m+\u001b[0m\u001b[0;34m\u001b[0m\u001b[0m\n\u001b[1;32m    138\u001b[0m                             \u001b[0;34m' but got array with shape '\u001b[0m \u001b[0;34m+\u001b[0m\u001b[0;34m\u001b[0m\u001b[0m\n\u001b[0;32m--> 139\u001b[0;31m                             str(array.shape))\n\u001b[0m\u001b[1;32m    140\u001b[0m     \u001b[0;32mreturn\u001b[0m \u001b[0marrays\u001b[0m\u001b[0;34m\u001b[0m\u001b[0m\n\u001b[1;32m    141\u001b[0m \u001b[0;34m\u001b[0m\u001b[0m\n",
      "\u001b[0;31mValueError\u001b[0m: Error when checking target: expected conv2d_63 to have shape (None, 1, 28, 4) but got array with shape (60000, 28, 28, 1)"
     ]
    }
   ],
   "source": [
    "from keras.callbacks import TensorBoard\n",
    "\n",
    "autoencoder.fit(x_train, x_train,\n",
    "                epochs=50,\n",
    "                batch_size=128,\n",
    "                shuffle=True,\n",
    "                validation_data=(x_test, x_test),\n",
    "                callbacks=[TensorBoard(log_dir='/tmp/autoencoder')])"
   ]
  },
  {
   "cell_type": "code",
   "execution_count": null,
   "metadata": {
    "collapsed": true
   },
   "outputs": [],
   "source": [
    "n = 10\n",
    "plt.figure(figsize=(20, 8))\n",
    "for i in range(n):\n",
    "    ax = plt.subplot(1, n, i)\n",
    "    plt.imshow(encoded_imgs[i].reshape(4, 4 * 8).T)\n",
    "    plt.gray()\n",
    "    ax.get_xaxis().set_visible(False)\n",
    "    ax.get_yaxis().set_visible(False)\n",
    "plt.show()"
   ]
  },
  {
   "cell_type": "code",
   "execution_count": 9,
   "metadata": {
    "collapsed": false
   },
   "outputs": [
    {
     "name": "stdout",
     "output_type": "stream",
     "text": [
      "2.0.4\n"
     ]
    }
   ],
   "source": [
    "print(keras.__version__)"
   ]
  },
  {
   "cell_type": "markdown",
   "metadata": {},
   "source": [
    "function to load data (RGB)\n",
    "\n",
    "file structure:\n",
    "\n",
    "```sh\n",
    "NeuralNetwork_RGB.ipynb\n",
    "./data:\n",
    "    labels.csv\n",
    "    posts_filtered.csv\n",
    "    rgbdata50.csv\n",
    "```\n"
   ]
  },
  {
   "cell_type": "code",
   "execution_count": 2,
   "metadata": {
    "collapsed": false,
    "scrolled": false
   },
   "outputs": [
    {
     "name": "stdout",
     "output_type": "stream",
     "text": [
      "Job completed in: 45.96432590484619 seconds\n",
      "f4096 shape (12380, 4096)\n",
      "labels shape (12380, 1)\n"
     ]
    }
   ],
   "source": [
    "def load_data():\n",
    "    start = time()\n",
    "    labels = np.loadtxt('data/labels.csv', delimiter=',', dtype=np.float32)\n",
    "    labels = np.minimum(1.0, labels)\n",
    "    data_size = labels.shape[0]\n",
    "    # lables.shape: (1,data_size)\n",
    "    labels.shape = (-1,1)\n",
    "\n",
    "    f4096 = np.loadtxt('data/4096features.csv', delimiter=',', dtype=np.float32)\n",
    "    f4096.shape = (-1, 4096)\n",
    "    print('Job completed in: {} seconds'.format(time()-start))\n",
    "    return f4096, labels\n",
    "\n",
    "f4096, labels = load_data()\n",
    "print('f4096 shape', f4096.shape)\n",
    "print('labels shape', labels.shape)"
   ]
  },
  {
   "cell_type": "code",
   "execution_count": 7,
   "metadata": {
    "collapsed": false
   },
   "outputs": [
    {
     "name": "stdout",
     "output_type": "stream",
     "text": [
      "X_train shape: (11254, 4096)\n",
      "X_train [[ 0.          0.          0.         ...,  0.          0.          0.00035396]\n",
      " [ 0.          0.          0.         ...,  0.          0.          0.        ]]\n",
      "y_train [[ 0.15116279]\n",
      " [ 0.32911393]]\n"
     ]
    }
   ],
   "source": [
    "def divide_data(f4096, labels, data_size=None, train_ratio=0.9):\n",
    "    '''Randomly select given number of data and divide into training set and test set'''\n",
    "    data_size_max = labels.shape[0]\n",
    "    data_size = data_size_max if data_size is None else data_size\n",
    "    train_size = int(np.floor(train_ratio * data_size))\n",
    "\n",
    "    mask = list(range(data_size_max))\n",
    "    mask = np.random.choice(mask, data_size, replace=False)\n",
    "    f4096 = f4096[mask]/255\n",
    "    labels = np.minimum(labels[mask], 1.0)\n",
    "    X_train = f4096[:train_size]\n",
    "    y_train = labels[:train_size]\n",
    "    X_test = f4096[train_size:]\n",
    "    y_test = labels[train_size:]\n",
    "\n",
    "    return (X_train, y_train), (X_test, y_test)\n",
    "\n",
    "(X_train, y_train), (X_test, y_test) = divide_data(f4096, labels, \n",
    "#                                                    data_size=1000, \n",
    "                                                   train_ratio=10/11) # 10/11 this ratio allows train = 10*test\n",
    "print('X_train shape:', X_train.shape)\n",
    "\n",
    "print('X_train', X_train[:2])\n",
    "print('y_train', y_train[:2])"
   ]
  },
  {
   "cell_type": "code",
   "execution_count": 8,
   "metadata": {
    "collapsed": false,
    "scrolled": true
   },
   "outputs": [
    {
     "name": "stdout",
     "output_type": "stream",
     "text": [
      "(4096,)\n"
     ]
    },
    {
     "ename": "ValueError",
     "evalue": "Input 0 is incompatible with layer conv2d_1: expected ndim=4, found ndim=2",
     "output_type": "error",
     "traceback": [
      "\u001b[0;31m---------------------------------------------------------------------------\u001b[0m",
      "\u001b[0;31mValueError\u001b[0m                                Traceback (most recent call last)",
      "\u001b[0;32m<ipython-input-8-498261fa6b81>\u001b[0m in \u001b[0;36m<module>\u001b[0;34m()\u001b[0m\n\u001b[1;32m     42\u001b[0m \u001b[0;34m\u001b[0m\u001b[0m\n\u001b[1;32m     43\u001b[0m \u001b[0minput_shape\u001b[0m \u001b[0;34m=\u001b[0m \u001b[0mX_train\u001b[0m\u001b[0;34m.\u001b[0m\u001b[0mshape\u001b[0m\u001b[0;34m[\u001b[0m\u001b[0;36m1\u001b[0m\u001b[0;34m:\u001b[0m\u001b[0;34m]\u001b[0m\u001b[0;34m\u001b[0m\u001b[0m\n\u001b[0;32m---> 44\u001b[0;31m \u001b[0mmodel\u001b[0m \u001b[0;34m=\u001b[0m \u001b[0mbuildModel\u001b[0m\u001b[0;34m(\u001b[0m\u001b[0minput_shape\u001b[0m\u001b[0;34m)\u001b[0m\u001b[0;34m\u001b[0m\u001b[0m\n\u001b[0m\u001b[1;32m     45\u001b[0m \u001b[0mprint\u001b[0m\u001b[0;34m(\u001b[0m\u001b[0mmodel\u001b[0m\u001b[0;34m)\u001b[0m\u001b[0;34m\u001b[0m\u001b[0m\n",
      "\u001b[0;32m<ipython-input-8-498261fa6b81>\u001b[0m in \u001b[0;36mbuildModel\u001b[0;34m(shape)\u001b[0m\n\u001b[1;32m      6\u001b[0m                      \u001b[0mactivation\u001b[0m\u001b[0;34m=\u001b[0m\u001b[0;34m'relu'\u001b[0m\u001b[0;34m,\u001b[0m\u001b[0;34m\u001b[0m\u001b[0m\n\u001b[1;32m      7\u001b[0m                      \u001b[0mdata_format\u001b[0m\u001b[0;34m=\u001b[0m\u001b[0;34m\"channels_first\"\u001b[0m\u001b[0;34m,\u001b[0m\u001b[0;34m\u001b[0m\u001b[0m\n\u001b[0;32m----> 8\u001b[0;31m                      input_shape=shape))\n\u001b[0m\u001b[1;32m      9\u001b[0m     model.add(Conv2D(32, (3, 3),\n\u001b[1;32m     10\u001b[0m                      \u001b[0mdata_format\u001b[0m\u001b[0;34m=\u001b[0m\u001b[0;34m\"channels_first\"\u001b[0m\u001b[0;34m,\u001b[0m\u001b[0;34m\u001b[0m\u001b[0m\n",
      "\u001b[0;32m/Users/seo/anaconda3/envs/cnnPy3/lib/python3.4/site-packages/keras/models.py\u001b[0m in \u001b[0;36madd\u001b[0;34m(self, layer)\u001b[0m\n\u001b[1;32m    431\u001b[0m                 \u001b[0;31m# and create the node connecting the current layer\u001b[0m\u001b[0;34m\u001b[0m\u001b[0;34m\u001b[0m\u001b[0m\n\u001b[1;32m    432\u001b[0m                 \u001b[0;31m# to the input layer we just created.\u001b[0m\u001b[0;34m\u001b[0m\u001b[0;34m\u001b[0m\u001b[0m\n\u001b[0;32m--> 433\u001b[0;31m                 \u001b[0mlayer\u001b[0m\u001b[0;34m(\u001b[0m\u001b[0mx\u001b[0m\u001b[0;34m)\u001b[0m\u001b[0;34m\u001b[0m\u001b[0m\n\u001b[0m\u001b[1;32m    434\u001b[0m \u001b[0;34m\u001b[0m\u001b[0m\n\u001b[1;32m    435\u001b[0m             \u001b[0;32mif\u001b[0m \u001b[0mlen\u001b[0m\u001b[0;34m(\u001b[0m\u001b[0mlayer\u001b[0m\u001b[0;34m.\u001b[0m\u001b[0minbound_nodes\u001b[0m\u001b[0;34m)\u001b[0m \u001b[0;34m!=\u001b[0m \u001b[0;36m1\u001b[0m\u001b[0;34m:\u001b[0m\u001b[0;34m\u001b[0m\u001b[0m\n",
      "\u001b[0;32m/Users/seo/anaconda3/envs/cnnPy3/lib/python3.4/site-packages/keras/engine/topology.py\u001b[0m in \u001b[0;36m__call__\u001b[0;34m(self, inputs, **kwargs)\u001b[0m\n\u001b[1;32m    539\u001b[0m                 \u001b[0;31m# Raise exceptions in case the input is not compatible\u001b[0m\u001b[0;34m\u001b[0m\u001b[0;34m\u001b[0m\u001b[0m\n\u001b[1;32m    540\u001b[0m                 \u001b[0;31m# with the input_spec specified in the layer constructor.\u001b[0m\u001b[0;34m\u001b[0m\u001b[0;34m\u001b[0m\u001b[0m\n\u001b[0;32m--> 541\u001b[0;31m                 \u001b[0mself\u001b[0m\u001b[0;34m.\u001b[0m\u001b[0massert_input_compatibility\u001b[0m\u001b[0;34m(\u001b[0m\u001b[0minputs\u001b[0m\u001b[0;34m)\u001b[0m\u001b[0;34m\u001b[0m\u001b[0m\n\u001b[0m\u001b[1;32m    542\u001b[0m \u001b[0;34m\u001b[0m\u001b[0m\n\u001b[1;32m    543\u001b[0m                 \u001b[0;31m# Collect input shapes to build layer.\u001b[0m\u001b[0;34m\u001b[0m\u001b[0;34m\u001b[0m\u001b[0m\n",
      "\u001b[0;32m/Users/seo/anaconda3/envs/cnnPy3/lib/python3.4/site-packages/keras/engine/topology.py\u001b[0m in \u001b[0;36massert_input_compatibility\u001b[0;34m(self, inputs)\u001b[0m\n\u001b[1;32m    438\u001b[0m                                      \u001b[0mself\u001b[0m\u001b[0;34m.\u001b[0m\u001b[0mname\u001b[0m \u001b[0;34m+\u001b[0m \u001b[0;34m': expected ndim='\u001b[0m \u001b[0;34m+\u001b[0m\u001b[0;34m\u001b[0m\u001b[0m\n\u001b[1;32m    439\u001b[0m                                      \u001b[0mstr\u001b[0m\u001b[0;34m(\u001b[0m\u001b[0mspec\u001b[0m\u001b[0;34m.\u001b[0m\u001b[0mndim\u001b[0m\u001b[0;34m)\u001b[0m \u001b[0;34m+\u001b[0m \u001b[0;34m', found ndim='\u001b[0m \u001b[0;34m+\u001b[0m\u001b[0;34m\u001b[0m\u001b[0m\n\u001b[0;32m--> 440\u001b[0;31m                                      str(K.ndim(x)))\n\u001b[0m\u001b[1;32m    441\u001b[0m             \u001b[0;32mif\u001b[0m \u001b[0mspec\u001b[0m\u001b[0;34m.\u001b[0m\u001b[0mmax_ndim\u001b[0m \u001b[0;32mis\u001b[0m \u001b[0;32mnot\u001b[0m \u001b[0;32mNone\u001b[0m\u001b[0;34m:\u001b[0m\u001b[0;34m\u001b[0m\u001b[0m\n\u001b[1;32m    442\u001b[0m                 \u001b[0mndim\u001b[0m \u001b[0;34m=\u001b[0m \u001b[0mK\u001b[0m\u001b[0;34m.\u001b[0m\u001b[0mndim\u001b[0m\u001b[0;34m(\u001b[0m\u001b[0mx\u001b[0m\u001b[0;34m)\u001b[0m\u001b[0;34m\u001b[0m\u001b[0m\n",
      "\u001b[0;31mValueError\u001b[0m: Input 0 is incompatible with layer conv2d_1: expected ndim=4, found ndim=2"
     ]
    }
   ],
   "source": [
    "def buildModel(shape):\n",
    "    model = Sequential()\n",
    "    print(shape)\n",
    "    model.add(Conv2D(32, (3, 3),\n",
    "                     padding='same',\n",
    "                     activation='relu',\n",
    "                     data_format=\"channels_first\",\n",
    "                     input_shape=shape))\n",
    "    model.add(Conv2D(32, (3, 3),\n",
    "                     data_format=\"channels_first\",\n",
    "                     activation='relu'))\n",
    "    model.add(MaxPooling2D(pool_size=(2,2)))\n",
    "    model.add(Dropout(0.25))\n",
    "    model.add(Conv2D(32, (4, 4),\n",
    "                     data_format=\"channels_first\",\n",
    "                     activation='relu'))\n",
    "    model.add(Conv2D(32, (3, 3),\n",
    "                     data_format=\"channels_first\",\n",
    "                     activation='relu'))\n",
    "    model.add(MaxPooling2D(pool_size=(2,2)))\n",
    "    model.add(Dropout(0.25))\n",
    "    \n",
    "    model.add(Flatten())\n",
    "    model.add(Dense(512, \n",
    "                    activation='relu'))\n",
    "    model.add(Dropout(0.5))\n",
    "    model.add(Dense(32,\n",
    "                    activation='relu'))\n",
    "    model.add(Dropout(0.5))\n",
    "    model.add(Dense(1,\n",
    "                    activation='relu'))\n",
    "    \n",
    "    rmsprop = RMSprop(lr=0.0005, rho=0.9, epsilon=1e-08, decay=0.0)\n",
    "    sgd = SGD(lr=0.002, decay=1e-6, momentum=0.9, nesterov=True)\n",
    "    def abs_diff(y_true, y_pred):\n",
    "        return np.absolute(y_true - y_pred)\n",
    "    model.compile(optimizer=rmsprop,\n",
    "                  loss='mse',\n",
    "                  metrics=[abs_diff, 'mse'])\n",
    "\n",
    "    return model\n",
    "\n",
    "input_shape = X_train.shape[1:]\n",
    "model = buildModel(input_shape)\n",
    "print(model)\n"
   ]
  },
  {
   "cell_type": "code",
   "execution_count": 59,
   "metadata": {
    "collapsed": false
   },
   "outputs": [
    {
     "name": "stdout",
     "output_type": "stream",
     "text": [
      "(11254, 3, 50, 50) (1126, 3, 50, 50) (11254, 1) (1126, 1)\n"
     ]
    }
   ],
   "source": [
    "print(X_train.shape, X_test.shape, y_train.shape, y_test.shape)"
   ]
  },
  {
   "cell_type": "code",
   "execution_count": 76,
   "metadata": {
    "collapsed": false,
    "scrolled": false
   },
   "outputs": [
    {
     "name": "stdout",
     "output_type": "stream",
     "text": [
      "Train on 11254 samples, validate on 1126 samples\n",
      "Epoch 1/2\n",
      "11254/11254 [==============================] - 132s - loss: 0.0230 - abs_diff: 0.1047 - mean_squared_error: 0.0230 - val_loss: 0.0132 - val_abs_diff: 0.0853 - val_mean_squared_error: 0.0132\n",
      "Epoch 2/2\n",
      "11254/11254 [==============================] - 134s - loss: 0.0157 - abs_diff: 0.0904 - mean_squared_error: 0.0157 - val_loss: 0.0133 - val_abs_diff: 0.0869 - val_mean_squared_error: 0.0133\n",
      "1120/1126 [============================>.] - ETA: 0sValidation loss: 0.01\n",
      "Validation accuracy: 8.69 %\n"
     ]
    }
   ],
   "source": [
    "hist = model.fit(X_train, y_train,\n",
    "                batch_size=32, \n",
    "                epochs=2,\n",
    "                verbose=1,\n",
    "                validation_data=(X_test, y_test))\n",
    "          \n",
    "score = model.evaluate(X_test, y_test)\n",
    "\n",
    "\n",
    "print('Validation loss:', round(score[0],2))\n",
    "print('Validation accuracy:', round(100*score[1],2), \"%\")"
   ]
  },
  {
   "cell_type": "code",
   "execution_count": 29,
   "metadata": {
    "collapsed": false
   },
   "outputs": [
    {
     "name": "stdout",
     "output_type": "stream",
     "text": [
      "2.0.4\n",
      "1.0\n",
      "['loss', 'acc']\n"
     ]
    }
   ],
   "source": [
    "print(keras.__version__)\n",
    "x = np.array([1,23,4,5,6,6,423,2])\n",
    "print(np.minimum(1, 4.5))\n",
    "print(model.metrics_names)"
   ]
  },
  {
   "cell_type": "markdown",
   "metadata": {},
   "source": [
    "### Plot Predicted values vs Real values\n",
    "\n",
    "There are almost no correlation between RGB and lables"
   ]
  },
  {
   "cell_type": "code",
   "execution_count": 83,
   "metadata": {
    "collapsed": false
   },
   "outputs": [
    {
     "name": "stdout",
     "output_type": "stream",
     "text": [
      "1120/1126 [============================>.] - ETA: 0s"
     ]
    }
   ],
   "source": [
    "y_prediction = model.predict(X_test, verbose=1)\n",
    "#y_test = y_test"
   ]
  },
  {
   "cell_type": "code",
   "execution_count": 111,
   "metadata": {
    "collapsed": false
   },
   "outputs": [
    {
     "name": "stdout",
     "output_type": "stream",
     "text": [
      "(1126,)\n",
      "[ 0.15261959  0.06530612  0.12610489  0.01714286  0.17374136  0.18250951\n",
      "  0.02650212  0.25170067  0.2857143   0.16187051]\n"
     ]
    },
    {
     "data": {
      "image/png": "[encoded data removed]",
      "text/plain": [
       "<matplotlib.figure.Figure at 0x11417df60>"
      ]
     },
     "metadata": {},
     "output_type": "display_data"
    }
   ],
   "source": [
    "import matplotlib.pyplot as plt\n",
    "import pandas as pd\n",
    "import seaborn as sns\n",
    "sns.set(color_codes=True)\n",
    "\n",
    "y_test.shape = (-1)\n",
    "y_prediction.shape = (-1)\n",
    "print(y_test.shape)\n",
    "print(y_test[0:10])\n",
    "data = np.array([y_prediction, y_test]).T\n",
    "# data.shape = (2, -1)\n",
    "# plt.title('CNN on RGB of Dataset#1')\n",
    "df = pd.DataFrame(data, columns=[\"Prediction\", \"Real\"])\n",
    "sns.jointplot(x=\"Real\", y=\"Prediction\", data=df);"
   ]
  },
  {
   "cell_type": "code",
   "execution_count": 112,
   "metadata": {
    "collapsed": false
   },
   "outputs": [],
   "source": [
    "#Input an image, resize as 50x50, output RGB data\n",
    "# from PIL import Image\n",
    "# img = Image.open('images/12403.jpg')\n",
    "# img_size = 50\n",
    "# img.show()\n",
    "\n",
    "# img = img.resize((img_size,img_size),Image.ANTIALIAS)\n",
    "# pixels = np.array(img.getdata(), dtype=int)/255\n",
    "# model.predict(pixels, batch_size=32, verbose=1)"
   ]
  },
  {
   "cell_type": "code",
   "execution_count": 92,
   "metadata": {
    "collapsed": false
   },
   "outputs": [
    {
     "name": "stdout",
     "output_type": "stream",
     "text": [
      "[ 1.  1.  1.  1.  1.  1.  1.]\n"
     ]
    }
   ],
   "source": [
    "lab = [1,3,543,6,3,547,45]\n",
    "print(np.minimum(1.0, lab))"
   ]
  },
  {
   "cell_type": "code",
   "execution_count": null,
   "metadata": {
    "collapsed": true
   },
   "outputs": [],
   "source": []
  }
 ],
 "metadata": {
  "kernelspec": {
   "display_name": "Python 3",
   "language": "python",
   "name": "python3"
  },
  "language_info": {
   "codemirror_mode": {
    "name": "ipython",
    "version": 3
   },
   "file_extension": ".py",
   "mimetype": "text/x-python",
   "name": "python",
   "nbconvert_exporter": "python",
   "pygments_lexer": "ipython3",
   "version": "3.4.4"
  }
 },
 "nbformat": 4,
 "nbformat_minor": 0
}
