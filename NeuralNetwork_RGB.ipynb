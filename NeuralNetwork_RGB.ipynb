{
 "cells": [
  {
   "cell_type": "code",
   "execution_count": 81,
   "metadata": {
    "collapsed": false
   },
   "outputs": [],
   "source": [
    "# some setup code\n",
    "from keras.datasets import cifar10\n",
    "from keras.preprocessing.image import ImageDataGenerator\n",
    "from keras.models import Sequential\n",
    "from keras.layers.core import Dense, Dropout, Activation, Flatten\n",
    "from keras.layers.convolutional import Conv2D, MaxPooling2D\n",
    "from keras.optimizers import SGD, RMSprop\n",
    "from keras.utils import np_utils\n",
    "import keras\n",
    "import numpy as np\n",
    "import matplotlib.pyplot as plt\n",
    "import pandas as pd\n",
    "import seaborn as sns\n",
    "sns.set(color_codes=True)\n",
    "from time import time\n",
    "\n",
    "# A bit of magic to make matplotlib figures appear inline in the notebook\n",
    "# rather than in a new window.\n",
    "%matplotlib inline \n",
    "import matplotlib.pyplot as plt"
   ]
  },
  {
   "cell_type": "markdown",
   "metadata": {},
   "source": [
    "function to load data (RGB)\n",
    "\n",
    "file structure:\n",
    "\n",
    "```sh\n",
    "NeuralNetwork_RGB.ipynb\n",
    "./data:\n",
    "    labels.csv\n",
    "    posts_filtered.csv\n",
    "    rgbdata50.csv\n",
    "```\n"
   ]
  },
  {
   "cell_type": "code",
   "execution_count": 127,
   "metadata": {
    "collapsed": false,
    "scrolled": false
   },
   "outputs": [
    {
     "name": "stdout",
     "output_type": "stream",
     "text": [
      "Job completed in: 86.38494992256165 seconds\n",
      "rgb shape (12380, 3, 50, 50)\n",
      "labels shape (12380, 1)\n"
     ]
    }
   ],
   "source": [
    "def load_data():\n",
    "    start = time()\n",
    "    labels = np.loadtxt('data/labels.csv', delimiter=',', dtype=np.float32)\n",
    "    labels = np.minimum(1.0, labels)\n",
    "    labels.shape = (-1,1)\n",
    "\n",
    "    rgb = np.loadtxt('data/rgbdata50.csv', delimiter=',', dtype=np.float32)\n",
    "    rgb.shape = (-1, 3, 50, 50)\n",
    "    print('Job completed in: {} seconds'.format(time()-start))\n",
    "    return rgb, labels\n",
    "\n",
    "rgb, labels = load_data()\n",
    "nb_classes = 1\n",
    "print('rgb shape', rgb.shape)\n",
    "print('labels shape', labels.shape)"
   ]
  },
  {
   "cell_type": "markdown",
   "metadata": {},
   "source": [
    "### Change label type from normalized popularity to popularVSunpopular"
   ]
  },
  {
   "cell_type": "code",
   "execution_count": 178,
   "metadata": {
    "collapsed": false
   },
   "outputs": [
    {
     "name": "stdout",
     "output_type": "stream",
     "text": [
      "(12380, 2)\n"
     ]
    }
   ],
   "source": [
    "# CHOICE 1: MULTI CLASS\n",
    "nb_classes = 2\n",
    "label_md = np.copy(labels)\n",
    "\n",
    "temp = []\n",
    "for label in label_md:\n",
    "    if label < 0.5:\n",
    "        temp.append([1,0])\n",
    "    else:\n",
    "        temp.append([0,1])\n",
    "\n",
    "label_md = np.array(temp)\n",
    "label_md.shape = (-1,nb_classes)\n",
    "print(label_md.shape)\n",
    "# print(label_2d[:100])"
   ]
  },
  {
   "cell_type": "code",
   "execution_count": 187,
   "metadata": {
    "collapsed": true
   },
   "outputs": [],
   "source": [
    "# CHOICE 2: SINGLE CLASS\n",
    "nb_classes = 1\n",
    "label_md = np.copy(labels)\n",
    "label_md.shape = (-1,nb_classes)"
   ]
  },
  {
   "cell_type": "code",
   "execution_count": 188,
   "metadata": {
    "collapsed": false
   },
   "outputs": [
    {
     "name": "stdout",
     "output_type": "stream",
     "text": [
      "X_train shape: (11254, 3, 50, 50)\n",
      "y_train shape: (11254, 1)\n"
     ]
    }
   ],
   "source": [
    "def divide_data(rgb, labels, data_size=None, train_ratio=0.9):\n",
    "    '''Randomly select given number of data and divide into training set and test set'''\n",
    "    data_size_max = labels.shape[0]\n",
    "    data_size = data_size_max if data_size is None else data_size\n",
    "    train_size = int(np.floor(train_ratio * data_size))\n",
    "\n",
    "    mask = list(range(data_size_max))\n",
    "    mask = np.random.choice(mask, data_size, replace=False)\n",
    "    rgb = rgb[mask]/255\n",
    "    labels = np.minimum(labels[mask], 1.0)\n",
    "    X_train = rgb[:train_size]\n",
    "    y_train = labels[:train_size]\n",
    "    X_test = rgb[train_size:]\n",
    "    y_test = labels[train_size:]\n",
    "\n",
    "    return (X_train, y_train), (X_test, y_test)\n",
    "\n",
    "(X_train, y_train), (X_test, y_test) = divide_data(rgb, label_md, \n",
    "#                                                    data_size=1000, \n",
    "                                                   train_ratio=10/11) # 10/11 this ratio allows train = 10*test\n",
    "print('X_train shape:', X_train.shape)\n",
    "print('y_train shape:', y_train.shape)\n",
    "\n",
    "# print('X_train', X_train[:2])\n",
    "# print('y_train', y_train[:2])"
   ]
  },
  {
   "cell_type": "code",
   "execution_count": 191,
   "metadata": {
    "collapsed": false,
    "scrolled": true
   },
   "outputs": [
    {
     "name": "stdout",
     "output_type": "stream",
     "text": [
      "(3, 50, 50)\n",
      "<keras.models.Sequential object at 0x10eee6a58>\n"
     ]
    }
   ],
   "source": [
    "def buildModel(shape):\n",
    "    model = Sequential()\n",
    "    print(shape)\n",
    "    model.add(Conv2D(32, (3, 3),\n",
    "                     padding='same',\n",
    "                     activation='relu',\n",
    "                     data_format=\"channels_first\",\n",
    "                     input_shape=shape))\n",
    "    model.add(Conv2D(32, (3, 3),\n",
    "                     data_format=\"channels_first\",\n",
    "                     activation='relu'))\n",
    "    model.add(MaxPooling2D(pool_size=(2,2)))\n",
    "    model.add(Dropout(0.25))\n",
    "    model.add(Conv2D(32, (4, 4),\n",
    "                     data_format=\"channels_first\",\n",
    "                     activation='relu'))\n",
    "    model.add(Conv2D(32, (3, 3),\n",
    "                     data_format=\"channels_first\",\n",
    "                     activation='relu'))\n",
    "    model.add(MaxPooling2D(pool_size=(2,2)))\n",
    "    model.add(Dropout(0.25))\n",
    "    \n",
    "    model.add(Flatten())\n",
    "    model.add(Dense(512, \n",
    "                    activation='relu'))\n",
    "    model.add(Dropout(0.5))\n",
    "    model.add(Dense(32,\n",
    "                    activation='relu'))\n",
    "    model.add(Dropout(0.5))\n",
    "    model.add(Dense(nb_classes,\n",
    "                    activation='softmax'))\n",
    "    \n",
    "    rmsprop = RMSprop(lr=0.0005, rho=0.9, epsilon=1e-08, decay=0.0)\n",
    "    sgd = SGD(lr=0.002, decay=1e-6, momentum=0.9, nesterov=True)\n",
    "    def abs_diff(y_true, y_pred):\n",
    "        return np.absolute(y_true - y_pred)\n",
    "    model.compile(optimizer=rmsprop,\n",
    "                  loss='mse',\n",
    "                  metrics=[abs_diff, 'mse'])\n",
    "\n",
    "    return model\n",
    "\n",
    "input_shape = X_train.shape[1:]\n",
    "model = buildModel(input_shape)\n",
    "print(model)\n"
   ]
  },
  {
   "cell_type": "code",
   "execution_count": 189,
   "metadata": {
    "collapsed": false
   },
   "outputs": [
    {
     "name": "stdout",
     "output_type": "stream",
     "text": [
      "(11254, 3, 50, 50) (1126, 3, 50, 50) (11254, 1) (1126, 1)\n"
     ]
    }
   ],
   "source": [
    "print(X_train.shape, X_test.shape, y_train.shape, y_test.shape)"
   ]
  },
  {
   "cell_type": "code",
   "execution_count": 192,
   "metadata": {
    "collapsed": false,
    "scrolled": false
   },
   "outputs": [
    {
     "name": "stdout",
     "output_type": "stream",
     "text": [
      "Train on 11254 samples, validate on 1126 samples\n",
      "Epoch 1/2\n",
      "11254/11254 [==============================] - 134s - loss: 0.7631 - abs_diff: 0.8648 - mean_squared_error: 0.7631 - val_loss: 0.7635 - val_abs_diff: 0.8653 - val_mean_squared_error: 0.7635\n",
      "Epoch 2/2\n",
      "11254/11254 [==============================] - 134s - loss: 0.7631 - abs_diff: 0.8648 - mean_squared_error: 0.7631 - val_loss: 0.7635 - val_abs_diff: 0.8653 - val_mean_squared_error: 0.7635\n",
      "1120/1126 [============================>.] - ETA: 0sValidation loss: 0.76\n",
      "Validation accuracy: 86.53 %\n"
     ]
    }
   ],
   "source": [
    "hist = model.fit(X_train, y_train,\n",
    "                batch_size=32, \n",
    "                epochs=2,\n",
    "                verbose=1,\n",
    "                validation_data=(X_test, y_test))\n",
    "          \n",
    "score = model.evaluate(X_test, y_test)\n",
    "\n",
    "\n",
    "print('Validation loss:', round(score[0],2))\n",
    "print('Validation accuracy:', round(100*score[1],2), \"%\")"
   ]
  },
  {
   "cell_type": "code",
   "execution_count": 29,
   "metadata": {
    "collapsed": false
   },
   "outputs": [
    {
     "name": "stdout",
     "output_type": "stream",
     "text": [
      "2.0.4\n",
      "1.0\n",
      "['loss', 'acc']\n"
     ]
    }
   ],
   "source": [
    "print(keras.__version__)\n",
    "x = np.array([1,23,4,5,6,6,423,2])\n",
    "print(np.minimum(1, 4.5))\n",
    "print(model.metrics_names)"
   ]
  },
  {
   "cell_type": "markdown",
   "metadata": {},
   "source": [
    "### Plot Predicted values vs Real values\n",
    "\n",
    "There are almost no correlation between RGB and lables"
   ]
  },
  {
   "cell_type": "code",
   "execution_count": 185,
   "metadata": {
    "collapsed": false
   },
   "outputs": [
    {
     "name": "stdout",
     "output_type": "stream",
     "text": [
      "1120/1126 [============================>.] - ETA: 0s"
     ]
    }
   ],
   "source": [
    "y_prediction = model.predict(X_test, verbose=1)\n",
    "#y_test = y_test"
   ]
  },
  {
   "cell_type": "code",
   "execution_count": 165,
   "metadata": {
    "collapsed": false
   },
   "outputs": [
    {
     "name": "stdout",
     "output_type": "stream",
     "text": [
      "(3378,)\n",
      "[ 0.  1.  0.  0.  1.  0.  0.  0.  1.  0.]\n"
     ]
    },
    {
     "data": {
      "image/png": "[encoded data removed]",
      "text/plain": [
       "<matplotlib.figure.Figure at 0x106cab898>"
      ]
     },
     "metadata": {},
     "output_type": "display_data"
    }
   ],
   "source": [
    "y_test.shape = (-1)\n",
    "y_prediction.shape = (-1)\n",
    "print(y_test.shape)\n",
    "print(y_test[0:10])\n",
    "data = np.array([y_prediction, y_test]).T\n",
    "# data.shape = (2, -1)\n",
    "# plt.title('CNN on RGB of Dataset#1')\n",
    "df = pd.DataFrame(data, columns=[\"Prediction #likes/#followers\", \"Real #likes/#followers\"])\n",
    "sns.jointplot(x=\"Real #likes/#followers\", y=\"Prediction #likes/#followers\", data=df);"
   ]
  },
  {
   "cell_type": "code",
   "execution_count": 186,
   "metadata": {
    "collapsed": false
   },
   "outputs": [
    {
     "name": "stdout",
     "output_type": "stream",
     "text": [
      "[[ 0.99607074  0.        ]\n",
      " [ 0.99630129  0.        ]\n",
      " [ 0.9946174   0.        ]\n",
      " [ 0.99550617  0.        ]\n",
      " [ 0.99511003  0.        ]\n",
      " [ 0.99618655  0.        ]\n",
      " [ 0.99635667  0.        ]\n",
      " [ 1.01204574  0.        ]\n",
      " [ 0.99408031  0.        ]\n",
      " [ 0.99862236  0.        ]\n",
      " [ 0.99354082  0.        ]\n",
      " [ 0.99712449  0.        ]\n",
      " [ 0.99543506  0.        ]\n",
      " [ 1.00232792  0.        ]\n",
      " [ 0.9962799   0.        ]\n",
      " [ 0.99890953  0.        ]\n",
      " [ 0.99655253  0.        ]\n",
      " [ 0.99354082  0.        ]\n",
      " [ 0.99358368  0.        ]\n",
      " [ 0.99466103  0.        ]\n",
      " [ 0.99866933  0.        ]\n",
      " [ 0.99394405  0.        ]\n",
      " [ 0.99362165  0.        ]\n",
      " [ 0.99354082  0.        ]\n",
      " [ 0.99962443  0.        ]\n",
      " [ 1.00704741  0.        ]\n",
      " [ 0.99336082  0.        ]\n",
      " [ 0.99446476  0.        ]\n",
      " [ 0.99700862  0.        ]\n",
      " [ 0.99679905  0.        ]\n",
      " [ 0.99355215  0.        ]\n",
      " [ 0.99357045  0.        ]\n",
      " [ 0.99357486  0.        ]\n",
      " [ 1.00479484  0.        ]\n",
      " [ 0.99758303  0.        ]\n",
      " [ 0.99356425  0.        ]\n",
      " [ 1.00010443  0.        ]\n",
      " [ 0.99354196  0.        ]\n",
      " [ 0.99445659  0.        ]\n",
      " [ 0.9943338   0.        ]\n",
      " [ 0.99378651  0.        ]\n",
      " [ 0.99817103  0.        ]\n",
      " [ 0.99354082  0.        ]\n",
      " [ 0.99407989  0.        ]\n",
      " [ 0.99393922  0.        ]\n",
      " [ 0.99503505  0.        ]\n",
      " [ 1.00690269  0.        ]\n",
      " [ 0.99273747  0.        ]\n",
      " [ 0.99540919  0.        ]\n",
      " [ 0.99794513  0.        ]]\n",
      "(1126, 2)\n",
      "[[ 1.  0.]\n",
      " [ 1.  0.]\n",
      " [ 1.  0.]\n",
      " [ 1.  0.]\n",
      " [ 1.  0.]\n",
      " [ 1.  0.]\n",
      " [ 1.  0.]\n",
      " [ 1.  0.]\n",
      " [ 1.  0.]\n",
      " [ 1.  0.]]\n"
     ]
    },
    {
     "data": {
      "image/png": "[encoded data removed]",
      "text/plain": [
       "<matplotlib.figure.Figure at 0x114896ef0>"
      ]
     },
     "metadata": {},
     "output_type": "display_data"
    }
   ],
   "source": [
    "y_prediction.shape = y_test.shape = (-1, nb_classes)\n",
    "y_test_int = []\n",
    "y_pred_int = []\n",
    "def max_idx(arr):\n",
    "    max_i = 0\n",
    "    max_val = 0\n",
    "    for i in range(len(arr)):\n",
    "        if arr[i] > max_val:\n",
    "            max_val = arr[i]\n",
    "            max_i = i\n",
    "    return max_i, max_val\n",
    "\n",
    "# print(y_prediction[:50])\n",
    "for i in range(max(y_test.shape)):\n",
    "    t = y_test[i]\n",
    "    y_test_int.append(max_idx(t)[0])\n",
    "    p = y_prediction[i]\n",
    "    y_pred_int.append(max_idx(p)[0])\n",
    "\n",
    "y_test_int = np.array(y_test_int)\n",
    "y_pred_int = np.array(y_pred_int)\n",
    "\n",
    "y_test_int.shape = (-1)\n",
    "y_pred_int.shape = (-1)\n",
    "# print(y_test.shape)\n",
    "# print(y_test[0:10])\n",
    "data = np.array([y_pred_int, y_test_int]).T\n",
    "df = pd.DataFrame(data, columns=[\"Prediction #likes/#followers\", \"Real #likes/#followers\"])\n",
    "sns.jointplot(x=\"Real #likes/#followers\", y=\"Prediction #likes/#followers\", data=df);"
   ]
  },
  {
   "cell_type": "code",
   "execution_count": 112,
   "metadata": {
    "collapsed": false
   },
   "outputs": [],
   "source": [
    "#Input an image, resize as 50x50, output RGB data\n",
    "# from PIL import Image\n",
    "# img = Image.open('images/12403.jpg')\n",
    "# img_size = 50\n",
    "# img.show()\n",
    "\n",
    "# img = img.resize((img_size,img_size),Image.ANTIALIAS)\n",
    "# pixels = np.array(img.getdata(), dtype=int)/255\n",
    "# model.predict(pixels, batch_size=32, verbose=1)"
   ]
  },
  {
   "cell_type": "code",
   "execution_count": null,
   "metadata": {
    "collapsed": false
   },
   "outputs": [],
   "source": []
  },
  {
   "cell_type": "code",
   "execution_count": null,
   "metadata": {
    "collapsed": true
   },
   "outputs": [],
   "source": []
  }
 ],
 "metadata": {
  "kernelspec": {
   "display_name": "Python 3",
   "language": "python",
   "name": "python3"
  },
  "language_info": {
   "codemirror_mode": {
    "name": "ipython",
    "version": 3
   },
   "file_extension": ".py",
   "mimetype": "text/x-python",
   "name": "python",
   "nbconvert_exporter": "python",
   "pygments_lexer": "ipython3",
   "version": "3.4.4"
  }
 },
 "nbformat": 4,
 "nbformat_minor": 0
}
